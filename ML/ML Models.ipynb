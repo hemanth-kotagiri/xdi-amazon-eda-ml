{
 "cells": [
  {
   "cell_type": "markdown",
   "metadata": {},
   "source": [
    "### Please download the Reviews.csv file and paste it in the current working directory for running the cells below"
   ]
  },
  {
   "cell_type": "code",
   "execution_count": 1,
   "metadata": {},
   "outputs": [],
   "source": [
    "# Slkearn models on the data.\n",
    "import pandas as pd\n",
    "import numpy as np\n",
    "from sklearn.linear_model import LogisticRegression\n",
    "from sklearn.metrics import mean_squared_error"
   ]
  },
  {
   "cell_type": "code",
   "execution_count": 2,
   "metadata": {},
   "outputs": [],
   "source": [
    "import os\n",
    "data_path = os.getcwd()\n",
    "df = pd.read_csv(data_path + \"/Reviews.csv\")"
   ]
  },
  {
   "cell_type": "markdown",
   "metadata": {},
   "source": [
    "### I have only chosen those reviews which are helpful from the huge data set to avoid redudant reviews and to not to overload the model"
   ]
  },
  {
   "cell_type": "code",
   "execution_count": 3,
   "metadata": {},
   "outputs": [],
   "source": [
    "fltr = df[\"HelpfulnessNumerator\"] > 50\n",
    "df = df[fltr]"
   ]
  },
  {
   "cell_type": "markdown",
   "metadata": {},
   "source": [
    "### Here, I am classifying those reivews which have a score greater than 3 as positive, and less than three as negative"
   ]
  },
  {
   "cell_type": "code",
   "execution_count": 4,
   "metadata": {},
   "outputs": [
    {
     "data": {
      "text/html": [
       "<div>\n",
       "<style scoped>\n",
       "    .dataframe tbody tr th:only-of-type {\n",
       "        vertical-align: middle;\n",
       "    }\n",
       "\n",
       "    .dataframe tbody tr th {\n",
       "        vertical-align: top;\n",
       "    }\n",
       "\n",
       "    .dataframe thead th {\n",
       "        text-align: right;\n",
       "    }\n",
       "</style>\n",
       "<table border=\"1\" class=\"dataframe\">\n",
       "  <thead>\n",
       "    <tr style=\"text-align: right;\">\n",
       "      <th></th>\n",
       "      <th>Score</th>\n",
       "      <th>Summary</th>\n",
       "      <th>Text</th>\n",
       "    </tr>\n",
       "  </thead>\n",
       "  <tbody>\n",
       "    <tr>\n",
       "      <th>1702</th>\n",
       "      <td>5</td>\n",
       "      <td>Yum!</td>\n",
       "      <td>I was on the fence about buying these for mont...</td>\n",
       "    </tr>\n",
       "    <tr>\n",
       "      <th>1707</th>\n",
       "      <td>2</td>\n",
       "      <td>Beware hidden ingredients</td>\n",
       "      <td>I hate to type this, because there are so many...</td>\n",
       "    </tr>\n",
       "    <tr>\n",
       "      <th>3304</th>\n",
       "      <td>4</td>\n",
       "      <td>Better than the others, but still not quite there</td>\n",
       "      <td>I feel like I've tried every hot cocoa there i...</td>\n",
       "    </tr>\n",
       "    <tr>\n",
       "      <th>3305</th>\n",
       "      <td>3</td>\n",
       "      <td>Why can't anyone make a hot cocoa without sucr...</td>\n",
       "      <td>I HATE SUCRALOSE.&lt;br /&gt;&lt;br /&gt;Honestly, I don't...</td>\n",
       "    </tr>\n",
       "    <tr>\n",
       "      <th>4251</th>\n",
       "      <td>5</td>\n",
       "      <td>great</td>\n",
       "      <td>I usually make my own gluten free stuff from s...</td>\n",
       "    </tr>\n",
       "  </tbody>\n",
       "</table>\n",
       "</div>"
      ],
      "text/plain": [
       "      Score                                            Summary  \\\n",
       "1702      5                                               Yum!   \n",
       "1707      2                          Beware hidden ingredients   \n",
       "3304      4  Better than the others, but still not quite there   \n",
       "3305      3  Why can't anyone make a hot cocoa without sucr...   \n",
       "4251      5                                              great   \n",
       "\n",
       "                                                   Text  \n",
       "1702  I was on the fence about buying these for mont...  \n",
       "1707  I hate to type this, because there are so many...  \n",
       "3304  I feel like I've tried every hot cocoa there i...  \n",
       "3305  I HATE SUCRALOSE.<br /><br />Honestly, I don't...  \n",
       "4251  I usually make my own gluten free stuff from s...  "
      ]
     },
     "execution_count": 4,
     "metadata": {},
     "output_type": "execute_result"
    }
   ],
   "source": [
    "## Filtering the Data as per the score.\n",
    "new_df = df[[\"Score\", \"Summary\", \"Text\"]]\n",
    "y_score = new_df[\"Score\"].apply(lambda x : 1 if x > 3 else 0)\n",
    "new_df.head()"
   ]
  },
  {
   "cell_type": "code",
   "execution_count": 5,
   "metadata": {},
   "outputs": [
    {
     "data": {
      "text/plain": [
       "1702    1\n",
       "1707    0\n",
       "3304    1\n",
       "3305    0\n",
       "4251    1\n",
       "Name: Score, dtype: int64"
      ]
     },
     "execution_count": 5,
     "metadata": {},
     "output_type": "execute_result"
    }
   ],
   "source": [
    "y_score.head()"
   ]
  },
  {
   "cell_type": "code",
   "execution_count": 6,
   "metadata": {},
   "outputs": [],
   "source": [
    "# Text cleaner\n",
    "from nltk.tokenize import word_tokenize\n",
    "from nltk.corpus import stopwords\n",
    "from string import punctuation as p\n",
    "\n",
    "stop_words = stopwords.words(\"english\")\n",
    "\n",
    "def clean_text(txt):\n",
    "    return ' '.join(w for w in word_tokenize(txt) if w not in p and w not in stop_words)"
   ]
  },
  {
   "cell_type": "code",
   "execution_count": 7,
   "metadata": {},
   "outputs": [],
   "source": [
    "# Cleaning the Text column\n",
    "clean_df = new_df[[\"Score\", \"Summary\"]]\n",
    "clean_df[\"Text\"] = new_df[\"Text\"].apply(clean_text)"
   ]
  },
  {
   "cell_type": "code",
   "execution_count": 8,
   "metadata": {},
   "outputs": [
    {
     "data": {
      "text/html": [
       "<div>\n",
       "<style scoped>\n",
       "    .dataframe tbody tr th:only-of-type {\n",
       "        vertical-align: middle;\n",
       "    }\n",
       "\n",
       "    .dataframe tbody tr th {\n",
       "        vertical-align: top;\n",
       "    }\n",
       "\n",
       "    .dataframe thead th {\n",
       "        text-align: right;\n",
       "    }\n",
       "</style>\n",
       "<table border=\"1\" class=\"dataframe\">\n",
       "  <thead>\n",
       "    <tr style=\"text-align: right;\">\n",
       "      <th></th>\n",
       "      <th>Score</th>\n",
       "      <th>Summary</th>\n",
       "      <th>Text</th>\n",
       "    </tr>\n",
       "  </thead>\n",
       "  <tbody>\n",
       "    <tr>\n",
       "      <th>1702</th>\n",
       "      <td>5</td>\n",
       "      <td>Yum!</td>\n",
       "      <td>I fence buying months I read reviews impressed...</td>\n",
       "    </tr>\n",
       "    <tr>\n",
       "      <th>1707</th>\n",
       "      <td>2</td>\n",
       "      <td>Beware hidden ingredients</td>\n",
       "      <td>I hate type many people really enjoy product t...</td>\n",
       "    </tr>\n",
       "    <tr>\n",
       "      <th>3304</th>\n",
       "      <td>4</td>\n",
       "      <td>Better than the others, but still not quite there</td>\n",
       "      <td>I feel like I 've tried every hot cocoa k-cups...</td>\n",
       "    </tr>\n",
       "    <tr>\n",
       "      <th>3305</th>\n",
       "      <td>3</td>\n",
       "      <td>Why can't anyone make a hot cocoa without sucr...</td>\n",
       "      <td>I HATE SUCRALOSE. br br Honestly I n't know pe...</td>\n",
       "    </tr>\n",
       "    <tr>\n",
       "      <th>4251</th>\n",
       "      <td>5</td>\n",
       "      <td>great</td>\n",
       "      <td>I usually make gluten free stuff scratch I lov...</td>\n",
       "    </tr>\n",
       "  </tbody>\n",
       "</table>\n",
       "</div>"
      ],
      "text/plain": [
       "      Score                                            Summary  \\\n",
       "1702      5                                               Yum!   \n",
       "1707      2                          Beware hidden ingredients   \n",
       "3304      4  Better than the others, but still not quite there   \n",
       "3305      3  Why can't anyone make a hot cocoa without sucr...   \n",
       "4251      5                                              great   \n",
       "\n",
       "                                                   Text  \n",
       "1702  I fence buying months I read reviews impressed...  \n",
       "1707  I hate type many people really enjoy product t...  \n",
       "3304  I feel like I 've tried every hot cocoa k-cups...  \n",
       "3305  I HATE SUCRALOSE. br br Honestly I n't know pe...  \n",
       "4251  I usually make gluten free stuff scratch I lov...  "
      ]
     },
     "execution_count": 8,
     "metadata": {},
     "output_type": "execute_result"
    }
   ],
   "source": [
    "clean_df.head()"
   ]
  },
  {
   "cell_type": "code",
   "execution_count": 9,
   "metadata": {},
   "outputs": [],
   "source": [
    "from sklearn.model_selection import train_test_split\n",
    "from sklearn.feature_extraction.text import TfidfTransformer\n",
    "from sklearn.feature_extraction.text import CountVectorizer\n",
    "X_train, X_test, y_train, y_test = train_test_split(clean_df[\"Text\"], y_score, test_size = 0.5, random_state = 42)\n",
    "count_vect = CountVectorizer()\n",
    "transformer = TfidfTransformer()\n",
    "corpus = [text.lower() for text in X_train]\n",
    "test = [tester.lower() for tester in X_test]\n",
    "X_train_counts = count_vect.fit_transform(corpus)\n",
    "features = count_vect.get_feature_names()\n",
    "X_train_tfidf = transformer.fit_transform(X_train_counts)\n",
    "X_test_counts = count_vect.transform(test)\n",
    "X_test_tfidf = transformer.fit_transform(X_test_counts)"
   ]
  },
  {
   "cell_type": "code",
   "execution_count": 10,
   "metadata": {},
   "outputs": [
    {
     "data": {
      "text/plain": [
       "LogisticRegression()"
      ]
     },
     "execution_count": 10,
     "metadata": {},
     "output_type": "execute_result"
    }
   ],
   "source": [
    "log_reg_model = LogisticRegression()\n",
    "log_reg_model.fit(X_train_tfidf, y_train)"
   ]
  },
  {
   "cell_type": "code",
   "execution_count": 11,
   "metadata": {},
   "outputs": [],
   "source": [
    "log_preds = log_reg_model.predict(X_test_tfidf)"
   ]
  },
  {
   "cell_type": "code",
   "execution_count": 12,
   "metadata": {},
   "outputs": [],
   "source": [
    "logi_success = 0\n",
    "for i in range(len(log_preds)):\n",
    "    if log_preds[i] == y_test.iloc[i]:\n",
    "        logi_success += 1"
   ]
  },
  {
   "cell_type": "code",
   "execution_count": 13,
   "metadata": {},
   "outputs": [
    {
     "name": "stdout",
     "output_type": "stream",
     "text": [
      "Model Accuracy for Logistic Regression: 76.038\n"
     ]
    }
   ],
   "source": [
    "print(f\"Model Accuracy for Logistic Regression: {round((logi_success / len(y_train))*100, 3)}\")"
   ]
  },
  {
   "cell_type": "code",
   "execution_count": 14,
   "metadata": {},
   "outputs": [
    {
     "data": {
      "text/plain": [
       "MultinomialNB()"
      ]
     },
     "execution_count": 14,
     "metadata": {},
     "output_type": "execute_result"
    }
   ],
   "source": [
    "from sklearn.naive_bayes import MultinomialNB\n",
    "nb_model = MultinomialNB()\n",
    "nb_model.fit(X_train_tfidf, y_train)"
   ]
  },
  {
   "cell_type": "code",
   "execution_count": 15,
   "metadata": {},
   "outputs": [],
   "source": [
    "nb_preds = nb_model.predict(X_test_tfidf)"
   ]
  },
  {
   "cell_type": "code",
   "execution_count": 16,
   "metadata": {},
   "outputs": [],
   "source": [
    "nb_success = 0\n",
    "for i in range(len(nb_preds)):\n",
    "    if nb_preds[i] == y_test.iloc[i]:\n",
    "        nb_success += 1"
   ]
  },
  {
   "cell_type": "code",
   "execution_count": 17,
   "metadata": {},
   "outputs": [
    {
     "name": "stdout",
     "output_type": "stream",
     "text": [
      "Model Accuracy for Naive Bayes Classifier: 73.163\n"
     ]
    }
   ],
   "source": [
    "print(f\"Model Accuracy for Naive Bayes Classifier: {round((nb_success / len(y_train))*100, 3)}\")"
   ]
  },
  {
   "cell_type": "code",
   "execution_count": 18,
   "metadata": {},
   "outputs": [],
   "source": [
    "from sklearn.naive_bayes import BernoulliNB\n",
    "Bmodel = BernoulliNB().fit(X_train_tfidf, y_train)\n",
    "Bpreds = Bmodel.predict(X_test_tfidf)"
   ]
  },
  {
   "cell_type": "code",
   "execution_count": 19,
   "metadata": {},
   "outputs": [],
   "source": [
    "B_success = 0\n",
    "for i in range(len(Bpreds)):\n",
    "    if Bpreds[i] == y_test.iloc[i]:\n",
    "        B_success += 1"
   ]
  },
  {
   "cell_type": "code",
   "execution_count": 20,
   "metadata": {},
   "outputs": [
    {
     "name": "stdout",
     "output_type": "stream",
     "text": [
      "Model Accuracy for Burnoulli Naive Bayes Classifier: 80.511\n"
     ]
    }
   ],
   "source": [
    "print(f\"Model Accuracy for Burnoulli Naive Bayes Classifier: {round((B_success / len(y_train))*100, 3)}\")"
   ]
  },
  {
   "cell_type": "markdown",
   "metadata": {},
   "source": [
    "## Generating a confusion Matrix for each of the Model"
   ]
  },
  {
   "cell_type": "code",
   "execution_count": 21,
   "metadata": {},
   "outputs": [],
   "source": [
    "%matplotlib inline\n",
    "from sklearn.metrics import confusion_matrix\n",
    "import matplotlib.pyplot as plt\n",
    "cm = confusion_matrix(y_test, log_preds)\n",
    "def show_cm(cm, title):\n",
    "    plt.imshow(cm)\n",
    "    plt.title(title)\n",
    "    plt.xticks([0,1])\n",
    "    plt.yticks([0,1])\n",
    "    plt.xlabel(\"Predicted\")\n",
    "    plt.ylabel(\"Original\")"
   ]
  },
  {
   "cell_type": "code",
   "execution_count": 22,
   "metadata": {},
   "outputs": [
    {
     "data": {
      "image/png": "[encoded data removed]",
      "text/plain": [
       "<Figure size 432x288 with 2 Axes>"
      ]
     },
     "metadata": {
      "needs_background": "light"
     },
     "output_type": "display_data"
    }
   ],
   "source": [
    "cm = confusion_matrix(y_test, log_preds)\n",
    "show_cm(cm, \"Logistic Regression ~ Confusion Matrix\")\n",
    "plt.imshow(cm, cmap = plt.cm.Reds)\n",
    "plt.colorbar()\n",
    "plt.show()"
   ]
  },
  {
   "cell_type": "code",
   "execution_count": 23,
   "metadata": {},
   "outputs": [
    {
     "data": {
      "image/png": "[encoded data removed]",
      "text/plain": [
       "<Figure size 432x288 with 2 Axes>"
      ]
     },
     "metadata": {
      "needs_background": "light"
     },
     "output_type": "display_data"
    }
   ],
   "source": [
    "cm = confusion_matrix(y_test, nb_preds)\n",
    "show_cm(cm, \"Naive Bayes ~ Confusion Matrix\")\n",
    "plt.imshow(cm, cmap = plt.cm.Greens)\n",
    "plt.colorbar()\n",
    "plt.show()"
   ]
  },
  {
   "cell_type": "code",
   "execution_count": 24,
   "metadata": {},
   "outputs": [
    {
     "data": {
      "image/png": "[encoded data removed]",
      "text/plain": [
       "<Figure size 432x288 with 2 Axes>"
      ]
     },
     "metadata": {
      "needs_background": "light"
     },
     "output_type": "display_data"
    }
   ],
   "source": [
    "cm = confusion_matrix(y_test, Bpreds)\n",
    "show_cm(cm, \"Bernoulli Naive Bayes ~ Confusion Matrix\")\n",
    "plt.imshow(cm, cmap = plt.cm.Blues)\n",
    "plt.colorbar()\n",
    "plt.show()"
   ]
  },
  {
   "cell_type": "code",
   "execution_count": null,
   "metadata": {},
   "outputs": [],
   "source": []
  }
 ],
 "metadata": {
  "kernelspec": {
   "display_name": "Python 3",
   "language": "python",
   "name": "python3"
  },
  "language_info": {
   "codemirror_mode": {
    "name": "ipython",
    "version": 3
   },
   "file_extension": ".py",
   "mimetype": "text/x-python",
   "name": "python",
   "nbconvert_exporter": "python",
   "pygments_lexer": "ipython3",
   "version": "3.7.5"
  }
 },
 "nbformat": 4,
 "nbformat_minor": 4
}
